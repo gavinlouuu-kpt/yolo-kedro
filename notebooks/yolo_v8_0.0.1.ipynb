{
 "cells": [
  {
   "cell_type": "code",
   "execution_count": 6,
   "metadata": {},
   "outputs": [
    {
     "name": "stdout",
     "output_type": "stream",
     "text": [
      "\n",
      "0: 352x640 3 cars, 1 truck, 200.0ms\n",
      "Speed: 2.0ms preprocess, 200.0ms inference, 3.0ms postprocess per image at shape (1, 3, 352, 640)\n",
      "[ultralytics.engine.results.Results object with attributes:\n",
      "\n",
      "boxes: ultralytics.engine.results.Boxes object\n",
      "keypoints: None\n",
      "masks: ultralytics.engine.results.Masks object\n",
      "names: {0: 'person', 1: 'bicycle', 2: 'car', 3: 'motorcycle', 4: 'airplane', 5: 'bus', 6: 'train', 7: 'truck', 8: 'boat', 9: 'traffic light', 10: 'fire hydrant', 11: 'stop sign', 12: 'parking meter', 13: 'bench', 14: 'bird', 15: 'cat', 16: 'dog', 17: 'horse', 18: 'sheep', 19: 'cow', 20: 'elephant', 21: 'bear', 22: 'zebra', 23: 'giraffe', 24: 'backpack', 25: 'umbrella', 26: 'handbag', 27: 'tie', 28: 'suitcase', 29: 'frisbee', 30: 'skis', 31: 'snowboard', 32: 'sports ball', 33: 'kite', 34: 'baseball bat', 35: 'baseball glove', 36: 'skateboard', 37: 'surfboard', 38: 'tennis racket', 39: 'bottle', 40: 'wine glass', 41: 'cup', 42: 'fork', 43: 'knife', 44: 'spoon', 45: 'bowl', 46: 'banana', 47: 'apple', 48: 'sandwich', 49: 'orange', 50: 'broccoli', 51: 'carrot', 52: 'hot dog', 53: 'pizza', 54: 'donut', 55: 'cake', 56: 'chair', 57: 'couch', 58: 'potted plant', 59: 'bed', 60: 'dining table', 61: 'toilet', 62: 'tv', 63: 'laptop', 64: 'mouse', 65: 'remote', 66: 'keyboard', 67: 'cell phone', 68: 'microwave', 69: 'oven', 70: 'toaster', 71: 'sink', 72: 'refrigerator', 73: 'book', 74: 'clock', 75: 'vase', 76: 'scissors', 77: 'teddy bear', 78: 'hair drier', 79: 'toothbrush'}\n",
      "obb: None\n",
      "orig_img: array([[[151, 152, 126],\n",
      "        [235, 235, 211],\n",
      "        [229, 228, 208],\n",
      "        ...,\n",
      "        [ 83, 113,  12],\n",
      "        [ 71, 106,  20],\n",
      "        [141, 180, 102]],\n",
      "\n",
      "       [[158, 158, 134],\n",
      "        [242, 242, 218],\n",
      "        [238, 236, 218],\n",
      "        ...,\n",
      "        [ 92, 116,  32],\n",
      "        [ 54,  86,   7],\n",
      "        [141, 179, 103]],\n",
      "\n",
      "       [[150, 147, 126],\n",
      "        [235, 232, 211],\n",
      "        [230, 225, 210],\n",
      "        ...,\n",
      "        [172, 185, 133],\n",
      "        [ 70,  97,  33],\n",
      "        [145, 179, 109]],\n",
      "\n",
      "       ...,\n",
      "\n",
      "       [[138, 127, 143],\n",
      "        [155, 148, 163],\n",
      "        [151, 151, 165],\n",
      "        ...,\n",
      "        [161, 162, 172],\n",
      "        [163, 164, 174],\n",
      "        [165, 166, 176]],\n",
      "\n",
      "       [[155, 144, 160],\n",
      "        [158, 151, 166],\n",
      "        [133, 133, 147],\n",
      "        ...,\n",
      "        [157, 162, 171],\n",
      "        [159, 163, 174],\n",
      "        [156, 163, 172]],\n",
      "\n",
      "       [[169, 165, 177],\n",
      "        [161, 157, 169],\n",
      "        [162, 160, 172],\n",
      "        ...,\n",
      "        [ 99, 111, 121],\n",
      "        [111, 125, 137],\n",
      "        [112, 129, 138]]], dtype=uint8)\n",
      "orig_shape: (337, 640)\n",
      "path: 'image0.jpg'\n",
      "probs: None\n",
      "save_dir: 'runs\\\\segment\\\\predict'\n",
      "speed: {'preprocess': 2.000570297241211, 'inference': 200.00076293945312, 'postprocess': 2.9990673065185547}]\n"
     ]
    },
    {
     "data": {
      "text/plain": [
       "-1"
      ]
     },
     "execution_count": 6,
     "metadata": {},
     "output_type": "execute_result"
    }
   ],
   "source": [
    "from ultralytics import YOLO\n",
    "import cv2\n",
    "import numpy as np\n",
    "import random\n",
    "\n",
    "model = YOLO('yolov8m-seg.pt')\n",
    "img = cv2.imread('D:/code/yolo8/data/01_raw/640px-2019_Toyota_Corolla_Icon_Tech_VVT-i_Hybrid_1.8.jpg')\n",
    "\n",
    "# if you want all classes\n",
    "yolo_classes = list(model.names.values())\n",
    "classes_ids = [yolo_classes.index(clas) for clas in yolo_classes]\n",
    "\n",
    "conf = 0.5\n",
    "\n",
    "results = model.predict(img, conf=conf)\n",
    "colors = [random.choices(range(256), k=3) for _ in classes_ids]\n",
    "print(results)\n",
    "for result in results:\n",
    "    for mask, box in zip(result.masks.xy, result.boxes):\n",
    "        points = np.int32([mask])\n",
    "        # cv2.polylines(img, points, True, (255, 0, 0), 1)\n",
    "        color_number = classes_ids.index(int(box.cls[0]))\n",
    "        cv2.fillPoly(img, points, colors[color_number])\n",
    "\n",
    "cv2.imshow(\"Image\", img)\n",
    "cv2.waitKey(0)\n"
   ]
  }
 ],
 "metadata": {
  "kernelspec": {
   "display_name": "kedro-env",
   "language": "python",
   "name": "python3"
  },
  "language_info": {
   "codemirror_mode": {
    "name": "ipython",
    "version": 3
   },
   "file_extension": ".py",
   "mimetype": "text/x-python",
   "name": "python",
   "nbconvert_exporter": "python",
   "pygments_lexer": "ipython3",
   "version": "3.10.15"
  }
 },
 "nbformat": 4,
 "nbformat_minor": 2
}
